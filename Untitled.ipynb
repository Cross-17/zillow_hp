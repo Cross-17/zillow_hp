{
 "cells": [
  {
   "cell_type": "code",
   "execution_count": 15,
   "metadata": {
    "collapsed": false
   },
   "outputs": [],
   "source": [
    "import pandas as pd\n",
    "import numpy as np\n",
    "\n",
    "df1 = pd.read_csv('blend3.csv')\n",
    "df2 = pd.read_csv('blend4.csv')\n"
   ]
  },
  {
   "cell_type": "code",
   "execution_count": 16,
   "metadata": {
    "collapsed": false
   },
   "outputs": [],
   "source": [
    "blend = pd.merge(df1, df2, how='left', on='ParcelId')\n",
    "for c in df1.columns:\n",
    "   if c != 'ParcelId':\n",
    "       blend[c] = (blend[c+'_x'] * 0.5)  + (blend[c+'_y'] * 0.5)\n",
    "blend = blend[df1.columns]\n",
    "blend.to_csv('blend5.csv', index=False)"
   ]
  },
  {
   "cell_type": "code",
   "execution_count": 14,
   "metadata": {
    "collapsed": false
   },
   "outputs": [
    {
     "data": {
      "text/html": [
       "<div>\n",
       "<table border=\"1\" class=\"dataframe\">\n",
       "  <thead>\n",
       "    <tr style=\"text-align: right;\">\n",
       "      <th></th>\n",
       "      <th>ParcelId</th>\n",
       "      <th>201610</th>\n",
       "      <th>201611</th>\n",
       "      <th>201612</th>\n",
       "      <th>201710</th>\n",
       "      <th>201711</th>\n",
       "      <th>201712</th>\n",
       "    </tr>\n",
       "  </thead>\n",
       "  <tbody>\n",
       "    <tr>\n",
       "      <th>0</th>\n",
       "      <td>10754147</td>\n",
       "      <td>0.00165</td>\n",
       "      <td>0.00160</td>\n",
       "      <td>0.00160</td>\n",
       "      <td>0.00165</td>\n",
       "      <td>0.00160</td>\n",
       "      <td>0.00160</td>\n",
       "    </tr>\n",
       "    <tr>\n",
       "      <th>1</th>\n",
       "      <td>10759547</td>\n",
       "      <td>0.00180</td>\n",
       "      <td>0.00180</td>\n",
       "      <td>0.00180</td>\n",
       "      <td>0.00180</td>\n",
       "      <td>0.00180</td>\n",
       "      <td>0.00180</td>\n",
       "    </tr>\n",
       "    <tr>\n",
       "      <th>2</th>\n",
       "      <td>10843547</td>\n",
       "      <td>0.05750</td>\n",
       "      <td>0.05750</td>\n",
       "      <td>0.05750</td>\n",
       "      <td>0.05750</td>\n",
       "      <td>0.05750</td>\n",
       "      <td>0.05750</td>\n",
       "    </tr>\n",
       "    <tr>\n",
       "      <th>3</th>\n",
       "      <td>10859147</td>\n",
       "      <td>0.04140</td>\n",
       "      <td>0.04140</td>\n",
       "      <td>0.04135</td>\n",
       "      <td>0.04140</td>\n",
       "      <td>0.04140</td>\n",
       "      <td>0.04135</td>\n",
       "    </tr>\n",
       "    <tr>\n",
       "      <th>4</th>\n",
       "      <td>10879947</td>\n",
       "      <td>0.01275</td>\n",
       "      <td>0.01275</td>\n",
       "      <td>0.01270</td>\n",
       "      <td>0.01275</td>\n",
       "      <td>0.01275</td>\n",
       "      <td>0.01270</td>\n",
       "    </tr>\n",
       "  </tbody>\n",
       "</table>\n",
       "</div>"
      ],
      "text/plain": [
       "   ParcelId   201610   201611   201612   201710   201711   201712\n",
       "0  10754147  0.00165  0.00160  0.00160  0.00165  0.00160  0.00160\n",
       "1  10759547  0.00180  0.00180  0.00180  0.00180  0.00180  0.00180\n",
       "2  10843547  0.05750  0.05750  0.05750  0.05750  0.05750  0.05750\n",
       "3  10859147  0.04140  0.04140  0.04135  0.04140  0.04140  0.04135\n",
       "4  10879947  0.01275  0.01275  0.01270  0.01275  0.01275  0.01270"
      ]
     },
     "execution_count": 14,
     "metadata": {},
     "output_type": "execute_result"
    }
   ],
   "source": [
    "blend.head()"
   ]
  },
  {
   "cell_type": "code",
   "execution_count": null,
   "metadata": {
    "collapsed": true
   },
   "outputs": [],
   "source": []
  }
 ],
 "metadata": {
  "kernelspec": {
   "display_name": "Python 2",
   "language": "python",
   "name": "python2"
  },
  "language_info": {
   "codemirror_mode": {
    "name": "ipython",
    "version": 2
   },
   "file_extension": ".py",
   "mimetype": "text/x-python",
   "name": "python",
   "nbconvert_exporter": "python",
   "pygments_lexer": "ipython2",
   "version": "2.7.13"
  }
 },
 "nbformat": 4,
 "nbformat_minor": 2
}
